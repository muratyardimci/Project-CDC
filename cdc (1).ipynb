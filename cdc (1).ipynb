{
 "cells": [
  {
   "cell_type": "code",
   "execution_count": 3,
   "id": "be5ab652-3a77-4a27-8564-70f7522bb180",
   "metadata": {},
   "outputs": [
    {
     "name": "stdout",
     "output_type": "stream",
     "text": [
      "3.5.0\n"
     ]
    }
   ],
   "source": [
    "from pyspark.sql import SparkSession\n",
    "\n",
    "spark = SparkSession.builder \\\n",
    "    .appName(\"KafkaExample\") \\\n",
    "    .config(\"spark.jars.packages\", \"org.apache.spark:spark-sql-kafka-0-10_2.12:3.3.0\") \\\n",
    "    .getOrCreate()\n",
    "print(spark.version)"
   ]
  },
  {
   "cell_type": "code",
   "execution_count": 4,
   "id": "26f626c5-fd18-4059-b6ae-f87ecdac6b23",
   "metadata": {},
   "outputs": [],
   "source": [
    "from pyspark.sql.functions import from_json, col\n",
    "from pyspark.sql.types import StructType, StructField, StringType, IntegerType, LongType\n",
    "\n",
    "\n",
    "# JSON schema tanımı oluşturma\n",
    "schema = StructType([\n",
    "    StructField(\"schema\", StructType([\n",
    "        StructField(\"type\", StringType(), True),\n",
    "        StructField(\"fields\", StructType([\n",
    "            StructField(\"type\", StringType(), True),\n",
    "            StructField(\"optional\", StringType(), True),\n",
    "            StructField(\"default\", StringType(), True),\n",
    "            StructField(\"field\", StringType(), True)\n",
    "        ]), True),\n",
    "        StructField(\"optional\", StringType(), True),\n",
    "        StructField(\"name\", StringType(), True),\n",
    "        StructField(\"version\", StringType(), True)\n",
    "    ]), True),\n",
    "\n",
    "    StructField(\"payload\", StructType([\n",
    "        StructField(\"before\", StructType([\n",
    "            StructField(\"id\", IntegerType(), True),\n",
    "            StructField(\"first_name\", StringType(), True),\n",
    "            StructField(\"last_name\", StringType(), True),\n",
    "            StructField(\"email\", StringType(), True),\n",
    "            StructField(\"phone\", StringType(), True),\n",
    "            StructField(\"created_at\", LongType(), True)\n",
    "        ]), True),\n",
    "        StructField(\"after\", StructType([\n",
    "            StructField(\"id\", IntegerType(), True),\n",
    "            StructField(\"first_name\", StringType(), True),\n",
    "            StructField(\"last_name\", StringType(), True),\n",
    "            StructField(\"email\", StringType(), True),\n",
    "            StructField(\"phone\", StringType(), True),\n",
    "            StructField(\"created_at\", LongType(), True)\n",
    "        ]), True),\n",
    "        StructField(\"source\", StructType([\n",
    "            StructField(\"version\", StringType(), True),\n",
    "            StructField(\"connector\", StringType(), True),\n",
    "            StructField(\"name\", StringType(), True),\n",
    "            StructField(\"ts_ms\", LongType(), True),\n",
    "            StructField(\"snapshot\", StringType(), True),\n",
    "            StructField(\"db\", StringType(), True),\n",
    "            StructField(\"sequence\", StringType(), True),\n",
    "            StructField(\"schema\", StringType(), True),\n",
    "            StructField(\"table\", StringType(), True),\n",
    "            StructField(\"txId\", LongType(), True),\n",
    "            StructField(\"lsn\", LongType(), True),\n",
    "            StructField(\"xmin\", LongType(), True)\n",
    "        ]), True),\n",
    "        StructField(\"op\", StringType(), True),\n",
    "        StructField(\"ts_ms\", LongType(), True),\n",
    "        StructField(\"transaction\", StructType([\n",
    "            StructField(\"id\", StringType(), True),\n",
    "            StructField(\"total_order\", LongType(), True),\n",
    "            StructField(\"data_collection_order\", LongType(), True)\n",
    "        ]), True)\n",
    "    ]), True)\n",
    "])"
   ]
  },
  {
   "cell_type": "code",
   "execution_count": 5,
   "id": "a4ce8d2d-7b39-4a1a-b625-5304d937df09",
   "metadata": {},
   "outputs": [],
   "source": [
    "kafka_df = spark.readStream \\\n",
    "    .format(\"kafka\") \\\n",
    "    .option(\"kafka.bootstrap.servers\", \"34.13.181.106:9092\") \\\n",
    "    .option(\"subscribe\", \"dbserver1.public.customers\") \\\n",
    "    .load()\n",
    "\n",
    "# Mesajları string'e dönüştürme\n",
    "kafka_df = kafka_df.selectExpr(\"CAST(value AS STRING)\")\n",
    "\n",
    "# JSON verilerini DataFrame'e dönüştürme\n",
    "json_df = kafka_df.select(from_json(col(\"value\"), schema).alias(\"data\"))\n",
    "\n",
    "# Sadece UPDATE işlemlerini filtreleme\n",
    "json_df = json_df.filter(col(\"data.payload.op\") == \"u\")\n",
    "\n",
    "# Verileri tablo haline getirme\n",
    "json_df = json_df.select(\n",
    "    col(\"data.payload.after.id\").alias(\"id\"),\n",
    "    col(\"data.payload.after.first_name\").alias(\"first_name\"),\n",
    "    col(\"data.payload.after.last_name\").alias(\"last_name\"),\n",
    "    col(\"data.payload.after.email\").alias(\"email\"),\n",
    "    col(\"data.payload.after.phone\").alias(\"phone\"),\n",
    "    col(\"data.payload.after.created_at\").alias(\"created_at\")\n",
    ")"
   ]
  },
  {
   "cell_type": "code",
   "execution_count": null,
   "id": "fe9c9efc-35d3-458f-b11a-f04016ce84d6",
   "metadata": {},
   "outputs": [],
   "source": [
    "json_df.writeStream \\\n",
    "    .outputMode(\"append\") \\\n",
    "    .format(\"memory\") \\\n",
    "    .queryName(\"customers\") \\\n",
    "    .start()"
   ]
  },
  {
   "cell_type": "code",
   "execution_count": 12,
   "id": "2cb26c30-acc4-4bd8-b648-63db6c6a0f59",
   "metadata": {},
   "outputs": [
    {
     "name": "stdout",
     "output_type": "stream",
     "text": [
      "+---+----------+---------+------------------+-------+----------------+\n",
      "| id|first_name|last_name|             email|  phone|      created_at|\n",
      "+---+----------+---------+------------------+-------+----------------+\n",
      "|  3|    Alice1|     lsdd|example3@email.com|1591515|1748633568152619|\n",
      "+---+----------+---------+------------------+-------+----------------+\n",
      "\n"
     ]
    }
   ],
   "source": [
    "spark.sql(\"SELECT * FROM customers\").show()"
   ]
  },
  {
   "cell_type": "code",
   "execution_count": null,
   "id": "8e7a52f7-0ac6-4385-972c-b7c644677e87",
   "metadata": {},
   "outputs": [],
   "source": []
  }
 ],
 "metadata": {
  "kernelspec": {
   "display_name": "Python 3 (ipykernel)",
   "language": "python",
   "name": "python3"
  },
  "language_info": {
   "codemirror_mode": {
    "name": "ipython",
    "version": 3
   },
   "file_extension": ".py",
   "mimetype": "text/x-python",
   "name": "python",
   "nbconvert_exporter": "python",
   "pygments_lexer": "ipython3",
   "version": "3.11.6"
  }
 },
 "nbformat": 4,
 "nbformat_minor": 5
}
